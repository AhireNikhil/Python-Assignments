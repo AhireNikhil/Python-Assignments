{
  "nbformat": 4,
  "nbformat_minor": 0,
  "metadata": {
    "colab": {
      "name": "Untitled11.ipynb",
      "provenance": [],
      "collapsed_sections": [],
      "authorship_tag": "ABX9TyOKi3Fb1jLI3zJq2NG0yiPj",
      "include_colab_link": true
    },
    "kernelspec": {
      "name": "python3",
      "display_name": "Python 3"
    },
    "language_info": {
      "name": "python"
    }
  },
  "cells": [
    {
      "cell_type": "markdown",
      "metadata": {
        "id": "view-in-github",
        "colab_type": "text"
      },
      "source": [
        "<a href=\"https://colab.research.google.com/github/AhireNikhil/Python1/blob/main/Assignment%201.ipynb\" target=\"_parent\"><img src=\"https://colab.research.google.com/assets/colab-badge.svg\" alt=\"Open In Colab\"/></a>"
      ]
    },
    {
      "cell_type": "code",
      "execution_count": 2,
      "metadata": {
        "id": "Ws06jrSkJWgh"
      },
      "outputs": [],
      "source": [
        "A=[\"Nikhil\",\"Ahire\",\"Male\",\"Student\"]\n",
        "B=[\"9137\",\"TYBSc\",\"B\"]\n"
      ]
    },
    {
      "cell_type": "code",
      "source": [
        "tuple(A)\n",
        "\n"
      ],
      "metadata": {
        "colab": {
          "base_uri": "https://localhost:8080/"
        },
        "id": "3sJwz0dvJ1xu",
        "outputId": "78c48744-a658-4e80-f6ae-53efc119e34e"
      },
      "execution_count": 4,
      "outputs": [
        {
          "output_type": "execute_result",
          "data": {
            "text/plain": [
              "('Nikhil', 'Ahire', 'Male', 'Student')"
            ]
          },
          "metadata": {},
          "execution_count": 4
        }
      ]
    },
    {
      "cell_type": "code",
      "source": [
        "tuple(B)"
      ],
      "metadata": {
        "colab": {
          "base_uri": "https://localhost:8080/"
        },
        "id": "25SafFKNJ7SC",
        "outputId": "bc0b24f6-65be-44bd-9d40-a392756a0633"
      },
      "execution_count": 5,
      "outputs": [
        {
          "output_type": "execute_result",
          "data": {
            "text/plain": [
              "('9137', 'TYBSc', 'B')"
            ]
          },
          "metadata": {},
          "execution_count": 5
        }
      ]
    },
    {
      "cell_type": "code",
      "source": [
        "a=('Nikhil', 'Ahire', 'Male', 'Student')\n",
        "b=('9137', 'TYBSc', 'B')"
      ],
      "metadata": {
        "id": "jYpThuHpKFp4"
      },
      "execution_count": 6,
      "outputs": []
    },
    {
      "cell_type": "code",
      "source": [
        "print(type(a))"
      ],
      "metadata": {
        "colab": {
          "base_uri": "https://localhost:8080/"
        },
        "id": "RHcsBqsUKO5w",
        "outputId": "b9568c65-1a15-495b-c415-02e056f11d78"
      },
      "execution_count": 7,
      "outputs": [
        {
          "output_type": "stream",
          "name": "stdout",
          "text": [
            "<class 'tuple'>\n"
          ]
        }
      ]
    },
    {
      "cell_type": "code",
      "source": [
        "print(a[:3])"
      ],
      "metadata": {
        "colab": {
          "base_uri": "https://localhost:8080/"
        },
        "id": "Y8tkV9gmKghe",
        "outputId": "56112a14-7c16-4878-9f8a-e8a69c1a785c"
      },
      "execution_count": 8,
      "outputs": [
        {
          "output_type": "stream",
          "name": "stdout",
          "text": [
            "('Nikhil', 'Ahire', 'Male')\n"
          ]
        }
      ]
    },
    {
      "cell_type": "code",
      "source": [
        "print(a[2:])"
      ],
      "metadata": {
        "colab": {
          "base_uri": "https://localhost:8080/"
        },
        "id": "12WgmGsFKmSI",
        "outputId": "7b54d156-76b6-4bf5-ee5f-5567b0287d44"
      },
      "execution_count": 9,
      "outputs": [
        {
          "output_type": "stream",
          "name": "stdout",
          "text": [
            "('Male', 'Student')\n"
          ]
        }
      ]
    },
    {
      "cell_type": "code",
      "source": [
        "print(a[3])"
      ],
      "metadata": {
        "colab": {
          "base_uri": "https://localhost:8080/"
        },
        "id": "Q8YAiQAfLCRJ",
        "outputId": "946a58d1-366f-4167-d324-e7c60e78365d"
      },
      "execution_count": 10,
      "outputs": [
        {
          "output_type": "stream",
          "name": "stdout",
          "text": [
            "Student\n"
          ]
        }
      ]
    },
    {
      "cell_type": "code",
      "source": [
        "print(a[:2])"
      ],
      "metadata": {
        "colab": {
          "base_uri": "https://localhost:8080/"
        },
        "id": "XIxNYIRmLDcq",
        "outputId": "c065b176-0133-42cf-cec3-9ced102fd17c"
      },
      "execution_count": 11,
      "outputs": [
        {
          "output_type": "stream",
          "name": "stdout",
          "text": [
            "('Nikhil', 'Ahire')\n"
          ]
        }
      ]
    },
    {
      "cell_type": "code",
      "source": [
        "print(a[1:2])"
      ],
      "metadata": {
        "colab": {
          "base_uri": "https://localhost:8080/"
        },
        "id": "a02p_vxkLDof",
        "outputId": "34a08084-101c-464d-f120-26a1cd37543b"
      },
      "execution_count": 12,
      "outputs": [
        {
          "output_type": "stream",
          "name": "stdout",
          "text": [
            "('Ahire',)\n"
          ]
        }
      ]
    },
    {
      "cell_type": "code",
      "source": [
        "print(b,\"\\n\")"
      ],
      "metadata": {
        "colab": {
          "base_uri": "https://localhost:8080/"
        },
        "id": "-YOiUsvTLD27",
        "outputId": "0d7fd764-84bd-4cbf-b778-af9c9eb01adf"
      },
      "execution_count": 13,
      "outputs": [
        {
          "output_type": "stream",
          "name": "stdout",
          "text": [
            "('9137', 'TYBSc', 'B') \n",
            "\n"
          ]
        }
      ]
    },
    {
      "cell_type": "code",
      "source": [
        "print(a,\"\\n\")"
      ],
      "metadata": {
        "colab": {
          "base_uri": "https://localhost:8080/"
        },
        "id": "P-_XZeCQLgZn",
        "outputId": "9b026b6d-fbe3-4752-df91-5c5fa722aecb"
      },
      "execution_count": 14,
      "outputs": [
        {
          "output_type": "stream",
          "name": "stdout",
          "text": [
            "('Nikhil', 'Ahire', 'Male', 'Student') \n",
            "\n"
          ]
        }
      ]
    },
    {
      "cell_type": "code",
      "source": [
        "for j in a:\n",
        "    print(j)\n",
        "\n",
        "if \"TYBSc\" in b:\n",
        "    print(\"Nikhil is in TYBSc\")"
      ],
      "metadata": {
        "colab": {
          "base_uri": "https://localhost:8080/"
        },
        "id": "6M5OQ6vsLs5h",
        "outputId": "c5ccf906-4214-4e63-f71b-9c94128e09c6"
      },
      "execution_count": 15,
      "outputs": [
        {
          "output_type": "stream",
          "name": "stdout",
          "text": [
            "Nikhil\n",
            "Ahire\n",
            "Male\n",
            "Student\n",
            "Nikhil is in TYBSc\n"
          ]
        }
      ]
    },
    {
      "cell_type": "code",
      "source": [
        "for j in a:\n",
        "  print(j)\n",
        "\n",
        "  if \"Male\" in b:\n",
        "    print(\"Nikhil is male\")"
      ],
      "metadata": {
        "colab": {
          "base_uri": "https://localhost:8080/"
        },
        "id": "wWFzfxE0L340",
        "outputId": "c45abeeb-070c-45b3-da7b-37c3f148ddd1"
      },
      "execution_count": 17,
      "outputs": [
        {
          "output_type": "stream",
          "name": "stdout",
          "text": [
            "Nikhil\n",
            "Ahire\n",
            "Male\n",
            "Student\n"
          ]
        }
      ]
    },
    {
      "cell_type": "code",
      "source": [
        "c=tuple(\"Pune\")"
      ],
      "metadata": {
        "id": "18m_9VRDMZBL"
      },
      "execution_count": 27,
      "outputs": []
    },
    {
      "cell_type": "code",
      "source": [
        "a+b+c"
      ],
      "metadata": {
        "colab": {
          "base_uri": "https://localhost:8080/"
        },
        "id": "Nst2F8McMs57",
        "outputId": "450d2598-324a-4af7-ee7b-ff17d4d6a8ce"
      },
      "execution_count": 28,
      "outputs": [
        {
          "output_type": "execute_result",
          "data": {
            "text/plain": [
              "('Nikhil',\n",
              " 'Ahire',\n",
              " 'Male',\n",
              " 'Student',\n",
              " '9137',\n",
              " 'TYBSc',\n",
              " 'B',\n",
              " 'P',\n",
              " 'u',\n",
              " 'n',\n",
              " 'e')"
            ]
          },
          "metadata": {},
          "execution_count": 28
        }
      ]
    }
  ]
}