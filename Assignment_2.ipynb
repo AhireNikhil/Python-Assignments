{
  "nbformat": 4,
  "nbformat_minor": 0,
  "metadata": {
    "colab": {
      "name": "Assignment 2.ipynb",
      "provenance": [],
      "collapsed_sections": [],
      "authorship_tag": "ABX9TyPfBaIX0mqBv5UPbViOomvQ",
      "include_colab_link": true
    },
    "kernelspec": {
      "name": "python3",
      "display_name": "Python 3"
    },
    "language_info": {
      "name": "python"
    }
  },
  "cells": [
    {
      "cell_type": "markdown",
      "metadata": {
        "id": "view-in-github",
        "colab_type": "text"
      },
      "source": [
        "<a href=\"https://colab.research.google.com/github/AhireNikhil/Assignment-1/blob/main/Assignment_2.ipynb\" target=\"_parent\"><img src=\"https://colab.research.google.com/assets/colab-badge.svg\" alt=\"Open In Colab\"/></a>"
      ]
    },
    {
      "cell_type": "code",
      "execution_count": null,
      "metadata": {
        "id": "eY0ZcxwKPgq0"
      },
      "outputs": [],
      "source": [
        "## Question 1\n",
        "def reverse_string(str): \n",
        "    Rev = \"\"  \n",
        "    for i in str: \n",
        "        Rev = i + Rev \n",
        "    return Rev   "
      ]
    },
    {
      "cell_type": "code",
      "source": [
        "str = \"Nikhil\"   "
      ],
      "metadata": {
        "id": "cQLIelj7PwFO"
      },
      "execution_count": null,
      "outputs": []
    },
    {
      "cell_type": "code",
      "source": [
        "print(\"The original string is: \",str) "
      ],
      "metadata": {
        "colab": {
          "base_uri": "https://localhost:8080/"
        },
        "id": "XvS4VEgsPzwO",
        "outputId": "531d40d4-9cc7-4186-83ea-9629753bf309"
      },
      "execution_count": null,
      "outputs": [
        {
          "output_type": "stream",
          "name": "stdout",
          "text": [
            "The original string is:  Nikhil\n"
          ]
        }
      ]
    },
    {
      "cell_type": "code",
      "source": [
        "print(\"The reverse string is\",reverse_string(str))\n"
      ],
      "metadata": {
        "colab": {
          "base_uri": "https://localhost:8080/"
        },
        "id": "1S0yg0FcP9zQ",
        "outputId": "dda24079-6efe-4e25-c0e3-2b26c7185aaa"
      },
      "execution_count": null,
      "outputs": [
        {
          "output_type": "stream",
          "name": "stdout",
          "text": [
            "The reverse string is lihkiN\n"
          ]
        }
      ]
    },
    {
      "cell_type": "code",
      "source": [
        "# Question 2\n",
        "Choice1=(int)(input(\"\\n\\t Enter your 1st number: \"))"
      ],
      "metadata": {
        "colab": {
          "base_uri": "https://localhost:8080/"
        },
        "id": "piu1T22AQHbs",
        "outputId": "2ca4791e-41ec-4cd1-9265-da361c94194d"
      },
      "execution_count": null,
      "outputs": [
        {
          "name": "stdout",
          "output_type": "stream",
          "text": [
            "\n",
            "\t Enter your 1st number: 21\n"
          ]
        }
      ]
    },
    {
      "cell_type": "code",
      "source": [
        "Choice2=(int)(input(\"\\n\\t Enter your 2st number: \"))\n"
      ],
      "metadata": {
        "colab": {
          "base_uri": "https://localhost:8080/"
        },
        "id": "xwkN6VV4VAmA",
        "outputId": "86d01940-059d-4068-fece-05104519221e"
      },
      "execution_count": null,
      "outputs": [
        {
          "name": "stdout",
          "output_type": "stream",
          "text": [
            "\n",
            "\t Enter your 2st number: 35\n"
          ]
        }
      ]
    },
    {
      "cell_type": "code",
      "source": [
        "Choice3=(int)(input(\"\\n\\t Enter your 3st number: \"))"
      ],
      "metadata": {
        "colab": {
          "base_uri": "https://localhost:8080/"
        },
        "id": "uMavCa4BVBI2",
        "outputId": "8aee2e61-5166-4dc9-8829-26038b43195d"
      },
      "execution_count": null,
      "outputs": [
        {
          "name": "stdout",
          "output_type": "stream",
          "text": [
            "\n",
            "\t Enter your 3st number: 56\n"
          ]
        }
      ]
    },
    {
      "cell_type": "code",
      "source": [
        "Choice4=(int)(input(\"\\n\\t Enter your 4st number: \"))"
      ],
      "metadata": {
        "colab": {
          "base_uri": "https://localhost:8080/"
        },
        "id": "Nb6ReNN2VBTE",
        "outputId": "d9f480ca-c46e-459f-b38d-30f071f42fcb"
      },
      "execution_count": null,
      "outputs": [
        {
          "name": "stdout",
          "output_type": "stream",
          "text": [
            "\n",
            "\t Enter your 4st number: 44\n"
          ]
        }
      ]
    },
    {
      "cell_type": "code",
      "source": [
        "print(\"Maximum number is: \",max(Choice1,Choice2,Choice3,Choice4))"
      ],
      "metadata": {
        "colab": {
          "base_uri": "https://localhost:8080/"
        },
        "id": "EzWB7XWsVZBO",
        "outputId": "a9fb8ce2-5e73-44c5-aaa8-a0ed5a359cf5"
      },
      "execution_count": null,
      "outputs": [
        {
          "output_type": "stream",
          "name": "stdout",
          "text": [
            "Maximum number is:  56\n"
          ]
        }
      ]
    },
    {
      "cell_type": "code",
      "source": [
        "print(\"Minimum number is:\",min(Choice1,Choice2,Choice3,Choice4))"
      ],
      "metadata": {
        "colab": {
          "base_uri": "https://localhost:8080/"
        },
        "id": "0oFsx85tVbJC",
        "outputId": "dedd53ab-3dc5-4fb6-f400-ce39c1a172ca"
      },
      "execution_count": null,
      "outputs": [
        {
          "output_type": "stream",
          "name": "stdout",
          "text": [
            "Minimum number is: 21\n"
          ]
        }
      ]
    },
    {
      "cell_type": "code",
      "source": [
        "# Question 3\n",
        "Choice1=(int)(input(\"\\n\\t Enter your 1st number: \"))\n",
        "\n"
      ],
      "metadata": {
        "colab": {
          "base_uri": "https://localhost:8080/"
        },
        "id": "wezVZ55DV1zG",
        "outputId": "fa5a97fa-9784-4349-bff8-b03a2333afa0"
      },
      "execution_count": null,
      "outputs": [
        {
          "name": "stdout",
          "output_type": "stream",
          "text": [
            "\n",
            "\t Enter your 1st number: 34\n"
          ]
        }
      ]
    },
    {
      "cell_type": "code",
      "source": [
        "Choice2=(int)(input(\"\\n\\t Enter your 2st number: \"))"
      ],
      "metadata": {
        "colab": {
          "base_uri": "https://localhost:8080/"
        },
        "id": "JvQKlA1TV2L2",
        "outputId": "4b4809d1-6d11-45a6-c29a-a238a9161790"
      },
      "execution_count": null,
      "outputs": [
        {
          "name": "stdout",
          "output_type": "stream",
          "text": [
            "\n",
            "\t Enter your 2st number: 76\n"
          ]
        }
      ]
    },
    {
      "cell_type": "code",
      "source": [
        "Choice3=(int)(input(\"\\n\\t Enter your 3st number: \"))"
      ],
      "metadata": {
        "colab": {
          "base_uri": "https://localhost:8080/"
        },
        "id": "EvoiORpyV2Oq",
        "outputId": "8e3de233-b5bc-4569-db85-680a20f806c7"
      },
      "execution_count": null,
      "outputs": [
        {
          "name": "stdout",
          "output_type": "stream",
          "text": [
            "\n",
            "\t Enter your 3st number: 23\n"
          ]
        }
      ]
    },
    {
      "cell_type": "code",
      "source": [
        "Choice4=(int)(input(\"\\n\\t Enter your 4st number: \"))"
      ],
      "metadata": {
        "colab": {
          "base_uri": "https://localhost:8080/"
        },
        "id": "Ag3UO3UJV2Q3",
        "outputId": "85b66230-ac79-4c0d-ad59-06f2a0679dc4"
      },
      "execution_count": null,
      "outputs": [
        {
          "name": "stdout",
          "output_type": "stream",
          "text": [
            "\n",
            "\t Enter your 4st number: 87\n"
          ]
        }
      ]
    },
    {
      "cell_type": "code",
      "source": [
        "Choice=[Choice1,Choice2,Choice3,Choice4]"
      ],
      "metadata": {
        "id": "PPC2cKTpV2Ti"
      },
      "execution_count": null,
      "outputs": []
    },
    {
      "cell_type": "code",
      "source": [
        "print(\"Addition of number is: \",sum(Choice))\n"
      ],
      "metadata": {
        "colab": {
          "base_uri": "https://localhost:8080/"
        },
        "id": "Sm-AJHrcV2Vk",
        "outputId": "df4e366c-7085-46eb-c4c0-3459ebaf474b"
      },
      "execution_count": null,
      "outputs": [
        {
          "output_type": "stream",
          "name": "stdout",
          "text": [
            "Addition of number is:  220\n"
          ]
        }
      ]
    },
    {
      "cell_type": "code",
      "source": [
        "# Question 4\n",
        "def P1():\n",
        "    P=12\n",
        "    Q=\"Nikhil\"\n",
        "    R=13+14"
      ],
      "metadata": {
        "id": "FYuU_DUCWhC0"
      },
      "execution_count": null,
      "outputs": []
    },
    {
      "cell_type": "code",
      "source": [
        "print(P1.__code__.co_nlocals)"
      ],
      "metadata": {
        "colab": {
          "base_uri": "https://localhost:8080/"
        },
        "id": "Q6_14PwJWvWo",
        "outputId": "f575e9de-4cde-40e9-cf20-6a839998fe1b"
      },
      "execution_count": null,
      "outputs": [
        {
          "output_type": "stream",
          "name": "stdout",
          "text": [
            "3\n"
          ]
        }
      ]
    },
    {
      "cell_type": "code",
      "source": [
        "# Question 5\n",
        "Even=[25,46,85,35,46,26,34]"
      ],
      "metadata": {
        "id": "gaIbEVwVXL6V"
      },
      "execution_count": null,
      "outputs": []
    },
    {
      "cell_type": "code",
      "source": [
        "for Num in Even:\n",
        "    if Num %2==0:\n",
        "        print(Num)"
      ],
      "metadata": {
        "colab": {
          "base_uri": "https://localhost:8080/"
        },
        "id": "m8-bu0EWXUa-",
        "outputId": "f0467a9c-db54-43b5-e891-ab33f558bd71"
      },
      "execution_count": null,
      "outputs": [
        {
          "output_type": "stream",
          "name": "stdout",
          "text": [
            "46\n",
            "46\n",
            "26\n",
            "34\n"
          ]
        }
      ]
    }
  ]
}